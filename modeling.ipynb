{
 "cells": [
  {
   "cell_type": "markdown",
   "metadata": {},
   "source": [
    "# Machine Learning\n",
    "\n",
    "In this file, instructions how to approach the challenge can be found."
   ]
  },
  {
   "cell_type": "markdown",
   "metadata": {},
   "source": [
    "We are going to work on different types of Machine Learning problems:\n",
    "\n",
    "- **Regression Problem**: The goal is to predict delay of flights.\n",
    "- **(Stretch) Multiclass Classification**: If the plane was delayed, we will predict what type of delay it is (will be).\n",
    "- **(Stretch) Binary Classification**: The goal is to predict if the flight will be cancelled."
   ]
  },
  {
   "cell_type": "code",
   "execution_count": null,
   "metadata": {},
   "outputs": [],
   "source": [
    "import pandas as pd\n",
    "\n",
    "import numpy as np\n",
    "\n",
    "import matplotlib.pyplot as plt\n",
    "\n",
    "import plotly.express as px\n",
    "\n",
    "import seaborn as sns\n",
    "\n",
    "# import Kmeans from sklearn\n",
    "from sklearn.cluster import KMeans\n",
    "\n",
    "#Scalar\n",
    "from sklearn.preprocessing import MinMaxScaler, OneHotEncoder\n",
    "\n",
    "import plotly.graph_objects as go\n",
    "\n",
    "import requests \n",
    "from IPython.display import JSON\n",
    "import json\n",
    "\n",
    "import warnings\n",
    "warnings.filterwarnings(\"ignore\")"
   ]
  },
  {
   "cell_type": "markdown",
   "metadata": {},
   "source": [
    "## Main Task: Regression Problem"
   ]
  },
  {
   "cell_type": "markdown",
   "metadata": {},
   "source": [
    "The target variable is **ARR_DELAY**. We need to be careful which columns to use and which don't. For example, DEP_DELAY is going to be the perfect predictor, but we can't use it because in real-life scenario, we want to predict the delay before the flight takes of --> We can use average delay from earlier days but not the one from the actual flight we predict.  \n",
    "\n",
    "For example, variables **CARRIER_DELAY, WEATHER_DELAY, NAS_DELAY, SECURITY_DELAY, LATE_AIRCRAFT_DELAY** shouldn't be used directly as predictors as well. However, we can create various transformations from earlier values.\n",
    "\n",
    "We will be evaluating your models by predicting the ARR_DELAY for all flights **1 week in advance**."
   ]
  },
  {
   "cell_type": "markdown",
   "metadata": {},
   "source": [
    "### Feature Engineering"
   ]
  },
  {
   "cell_type": "markdown",
   "metadata": {},
   "source": [
    "Feature engineering will play a crucial role in this problems. We have only very little attributes so we need to create some features that will have some predictive power.\n",
    "\n",
    "- weather: we can use some weather API to look for the weather in time of the scheduled departure and scheduled arrival.\n",
    "- statistics (avg, mean, median, std, min, max...): we can take a look at previous delays and compute descriptive statistics\n",
    "- airports encoding: we need to think about what to do with the airports and other categorical variables\n",
    "- time of the day: the delay probably depends on the airport traffic which varies during the day.\n",
    "- airport traffic\n",
    "- unsupervised learning as feature engineering?\n",
    "- **what are the additional options?**: Think about what we could do more to improve the model."
   ]
  },
  {
   "cell_type": "code",
   "execution_count": null,
   "metadata": {},
   "outputs": [],
   "source": [
    "df_flights = pd.read_csv('flights_db_training_data')\n",
    "df_flights.info()"
   ]
  },
  {
   "cell_type": "code",
   "execution_count": null,
   "metadata": {},
   "outputs": [],
   "source": [
    "df_flights[['origin_city', 'origin_state']]= df_flights['origin_city_name'].str.split(',',\n",
    "                                                                                expand=True)\n",
    "df_flights[['dest_city', 'dest_state']]= df_flights['dest_city_name'].str.split(',',\n",
    "                                                                                expand=True)\n",
    "df_flights"
   ]
  },
  {
   "cell_type": "code",
   "execution_count": 498,
   "metadata": {},
   "outputs": [],
   "source": [
    "df_flights_feat = df_flights.copy()"
   ]
  },
  {
   "cell_type": "code",
   "execution_count": null,
   "metadata": {},
   "outputs": [],
   "source": [
    "url = 'https://api.worldweatheronline.com/premium/v1/past-weather.ashx'\n",
    "\n",
    "df_weather_dep = pd.DataFrame()\n",
    "\n",
    "df_weather_arr = pd.DataFrame()\n",
    "\n",
    "df_weather_data = pd.DataFrame()\n",
    "\n",
    "i = 0\n",
    "\n",
    "#key = 'c0608014bbb545748f6132037232201'\n",
    "\n",
    "key = '7702f260caf2429eac441552232202'\n",
    "formatting = 'json'\n",
    "tp = '6'\n",
    "\n",
    "for index, row in df_flights_feat.iterrows():\n",
    "    params_dep = {'date': str(row['fl_date']), 'q': str(row['origin_city']) + ',' + str(row['origin_state']), \n",
    "                          'tp': tp, 'key': key, 'format': formatting}\n",
    "\n",
    "    res_weather_dep = requests.get(url, headers={'accept': 'application/JSON'}, params=params_dep)\n",
    "\n",
    "    df_weather_dep = pd.json_normalize(res_weather_dep.json(), \n",
    "                                        record_path = ['data', 'weather', 'hourly', 'weatherDesc'],\n",
    "                                        meta = [\n",
    "                                                ['data', 'weather', 'hourly','tempC'],\n",
    "                                                ['data', 'weather', 'hourly','windspeedMiles'],\n",
    "                                                ['data', 'weather', 'hourly','winddir16Point'],\n",
    "                                                ['data', 'weather', 'hourly','WindGustMiles'],\n",
    "                                                ['data', 'weather', 'hourly','WindChillC'],\n",
    "                                                ['data', 'weather', 'hourly','precipInches'],\n",
    "                                                ['data', 'weather', 'hourly','humidity'],\n",
    "                                                ['data', 'weather', 'hourly','visibilityMiles'],\n",
    "                                                ['data', 'weather', 'hourly','pressureInches'],\n",
    "                                                ['data', 'weather', 'hourly','DewPointC'],\n",
    "                                                ['data', 'weather', 'hourly','cloudcover'],\n",
    "                                                ['data', 'weather', 'hourly','uvIndex']\n",
    "                                               ]\n",
    "                                      )\n",
    "    \n",
    "    res_temp_dep = res_weather_dep.json()\n",
    "    \n",
    "    df_weather_dep['totalSnow_cm'] = res_temp_dep['data']['weather'][0]['totalSnow_cm']\n",
    "    \n",
    "    params_arr = {'date': str(row['fl_date']), 'q': str(row['dest_city']) + ',' + str(row['dest_state']), \n",
    "                          'tp': tp, 'key': key, 'format': formatting}\n",
    "\n",
    "    res_weather_arr = requests.get(url, headers={'accept': 'application/JSON'}, params=params_arr)\n",
    "\n",
    "    df_weather_arr = pd.json_normalize(res_weather_arr.json(), \n",
    "                                        record_path = ['data', 'weather', 'hourly', 'weatherDesc'],\n",
    "                                        meta = [\n",
    "                                                ['data', 'weather', 'hourly','tempC'],\n",
    "                                                ['data', 'weather', 'hourly','windspeedMiles'],\n",
    "                                                ['data', 'weather', 'hourly','winddir16Point'],\n",
    "                                                ['data', 'weather', 'hourly','WindGustMiles'],\n",
    "                                                ['data', 'weather', 'hourly','WindChillC'],\n",
    "                                                ['data', 'weather', 'hourly','precipInches'],\n",
    "                                                ['data', 'weather', 'hourly','humidity'],\n",
    "                                                ['data', 'weather', 'hourly','visibilityMiles'],\n",
    "                                                ['data', 'weather', 'hourly','pressureInches'],\n",
    "                                                ['data', 'weather', 'hourly','DewPointC'],\n",
    "                                                ['data', 'weather', 'hourly','cloudcover'],\n",
    "                                                ['data', 'weather', 'hourly','uvIndex'],\n",
    "                                                ['data', 'weather','totalSnow_cm']\n",
    "                                               ]\n",
    "                                      )\n",
    "    \n",
    "    res_temp_arr = res_weather_arr.json()\n",
    "    \n",
    "    df_weather_arr['totalSnow_cm'] = res_temp_arr['data']['weather'][0]['totalSnow_cm']\n",
    "    \n",
    "    if row['crs_dep_time'] in range (0, 600):\n",
    "        df_weather_data.at[i, 'origin_weather_condn']= df_weather_dep.iloc[0][0]\n",
    "        df_weather_data.at[i, 'origin_tempC']= df_weather_dep.iloc[0][1]\n",
    "        df_weather_data.at[i, 'origin_windspeedMiles']= df_weather_dep.iloc[0][2]\n",
    "        df_weather_data.at[i, 'origin_winddir16Point']= df_weather_dep.iloc[0][3]\n",
    "        df_weather_data.at[i, 'origin_WindGustMiles']= df_weather_dep.iloc[0][4]\n",
    "        df_weather_data.at[i, 'origin_WindChillC']= df_weather_dep.iloc[0][5]\n",
    "        df_weather_data.at[i, 'origin_precipInches']= df_weather_dep.iloc[0][6]\n",
    "        df_weather_data.at[i, 'origin_humidity']= df_weather_dep.iloc[0][7]\n",
    "        df_weather_data.at[i, 'origin_visibilityMiles']= df_weather_dep.iloc[0][8]\n",
    "        df_weather_data.at[i, 'origin_pressureInches']= df_weather_dep.iloc[0][9]\n",
    "        df_weather_data.at[i, 'origin_DewPointC']= df_weather_dep.iloc[0][10]\n",
    "        df_weather_data.at[i, 'origin_cloudcover']= df_weather_dep.iloc[0][11]\n",
    "        df_weather_data.at[i, 'origin_uvIndex']= df_weather_dep.iloc[0][12]\n",
    "    if row['crs_dep_time'] in range (600, 1200):\n",
    "        df_weather_data.at[i, 'origin_weather_condn']= df_weather_dep.iloc[1][0]\n",
    "        df_weather_data.at[i, 'origin_tempC']= df_weather_dep.iloc[1][1]\n",
    "        df_weather_data.at[i, 'origin_windspeedMiles']= df_weather_dep.iloc[1][2]\n",
    "        df_weather_data.at[i, 'origin_winddir16Point']= df_weather_dep.iloc[1][3]\n",
    "        df_weather_data.at[i, 'origin_WindGustMiles']= df_weather_dep.iloc[1][4]\n",
    "        df_weather_data.at[i, 'origin_WindChillC']= df_weather_dep.iloc[1][5]\n",
    "        df_weather_data.at[i, 'origin_precipInches']= df_weather_dep.iloc[1][6]\n",
    "        df_weather_data.at[i, 'origin_humidity']= df_weather_dep.iloc[1][7]\n",
    "        df_weather_data.at[i, 'origin_visibilityMiles']= df_weather_dep.iloc[1][8]\n",
    "        df_weather_data.at[i, 'origin_pressureInches']= df_weather_dep.iloc[1][9]\n",
    "        df_weather_data.at[i, 'origin_DewPointC']= df_weather_dep.iloc[1][10]\n",
    "        df_weather_data.at[i, 'origin_cloudcover']= df_weather_dep.iloc[1][11]\n",
    "        df_weather_data.at[i, 'origin_uvIndex']= df_weather_dep.iloc[1][12]\n",
    "    if row['crs_dep_time'] in range (1200, 1800):\n",
    "        df_weather_data.at[i, 'origin_weather_condn']= df_weather_dep.iloc[2][0]\n",
    "        df_weather_data.at[i, 'origin_tempC']= df_weather_dep.iloc[2][1]\n",
    "        df_weather_data.at[i, 'origin_windspeedMiles']= df_weather_dep.iloc[2][2]\n",
    "        df_weather_data.at[i, 'origin_winddir16Point']= df_weather_dep.iloc[2][3]\n",
    "        df_weather_data.at[i, 'origin_WindGustMiles']= df_weather_dep.iloc[2][4]\n",
    "        df_weather_data.at[i, 'origin_WindChillC']= df_weather_dep.iloc[2][5]\n",
    "        df_weather_data.at[i, 'origin_precipInches']= df_weather_dep.iloc[2][6]\n",
    "        df_weather_data.at[i, 'origin_humidity']= df_weather_dep.iloc[2][7]\n",
    "        df_weather_data.at[i, 'origin_visibilityMiles']= df_weather_dep.iloc[2][8]\n",
    "        df_weather_data.at[i, 'origin_pressureInches']= df_weather_dep.iloc[2][9]\n",
    "        df_weather_data.at[i, 'origin_DewPointC']= df_weather_dep.iloc[2][10]\n",
    "        df_weather_data.at[i, 'origin_cloudcover']= df_weather_dep.iloc[2][11]\n",
    "        df_weather_data.at[i, 'origin_uvIndex']= df_weather_dep.iloc[2][12]\n",
    "    if row['crs_dep_time'] in range (1800, 2400):\n",
    "        df_weather_data.at[i, 'origin_weather_condn']= df_weather_dep.iloc[3][0]\n",
    "        df_weather_data.at[i, 'origin_tempC']= df_weather_dep.iloc[3][1]\n",
    "        df_weather_data.at[i, 'origin_windspeedMiles']= df_weather_dep.iloc[3][2]\n",
    "        df_weather_data.at[i, 'origin_winddir16Point']= df_weather_dep.iloc[3][3]\n",
    "        df_weather_data.at[i, 'origin_WindGustMiles']= df_weather_dep.iloc[3][4]\n",
    "        df_weather_data.at[i, 'origin_WindChillC']= df_weather_dep.iloc[3][5]\n",
    "        df_weather_data.at[i, 'origin_precipInches']= df_weather_dep.iloc[3][6]\n",
    "        df_weather_data.at[i, 'origin_humidity']= df_weather_dep.iloc[3][7]\n",
    "        df_weather_data.at[i, 'origin_visibilityMiles']= df_weather_dep.iloc[3][8]\n",
    "        df_weather_data.at[i, 'origin_pressureInches']= df_weather_dep.iloc[3][9]\n",
    "        df_weather_data.at[i, 'origin_DewPointC']= df_weather_dep.iloc[3][10]\n",
    "        df_weather_data.at[i, 'origin_cloudcover']= df_weather_dep.iloc[3][11]\n",
    "        df_weather_data.at[i, 'origin_uvIndex']= df_weather_dep.iloc[3][12]\n",
    "\n",
    "    df_weather_data.at[i, 'origin_totalSnow_cm']= df_weather_dep['totalSnow_cm']\n",
    "        \n",
    "    if row['crs_arr_time'] in range (0, 600):\n",
    "        df_weather_data.at[i, 'dest_weather_condn']= df_weather_arr.iloc[0][0]\n",
    "        df_weather_data.at[i, 'dest_tempC']= df_weather_arr.iloc[0][1]\n",
    "        df_weather_data.at[i, 'dest_windspeedMiles']= df_weather_arr.iloc[0][2]\n",
    "        df_weather_data.at[i, 'dest_winddir16Point']= df_weather_arr.iloc[0][3]\n",
    "        df_weather_data.at[i, 'dest_WindGustMiles']= df_weather_arr.iloc[0][4]\n",
    "        df_weather_data.at[i, 'dest_WindChillC']= df_weather_arr.iloc[0][5]\n",
    "        df_weather_data.at[i, 'dest_precipInches']= df_weather_arr.iloc[0][6]\n",
    "        df_weather_data.at[i, 'dest_humidity']= df_weather_arr.iloc[0][7]\n",
    "        df_weather_data.at[i, 'dest_visibilityMiles']= df_weather_arr.iloc[0][8]\n",
    "        df_weather_data.at[i, 'dest_pressureInches']= df_weather_arr.iloc[0][9]\n",
    "        df_weather_data.at[i, 'dest_DewPointC']= df_weather_arr.iloc[0][10]\n",
    "        df_weather_data.at[i, 'dest_cloudcover']= df_weather_arr.iloc[0][11]\n",
    "        df_weather_data.at[i, 'dest_uvIndex']= df_weather_arr.iloc[0][12]\n",
    "    if row['crs_arr_time'] in range (600, 1200):\n",
    "        df_weather_data.at[i, 'dest_weather_condn']= df_weather_arr.iloc[1][0]\n",
    "        df_weather_data.at[i, 'dest_tempC']= df_weather_arr.iloc[1][1]\n",
    "        df_weather_data.at[i, 'dest_windspeedMiles']= df_weather_arr.iloc[1][2]\n",
    "        df_weather_data.at[i, 'dest_winddir16Point']= df_weather_arr.iloc[1][3]\n",
    "        df_weather_data.at[i, 'dest_WindGustMiles']= df_weather_arr.iloc[1][4]\n",
    "        df_weather_data.at[i, 'dest_WindChillC']= df_weather_arr.iloc[1][5]\n",
    "        df_weather_data.at[i, 'dest_precipInches']= df_weather_arr.iloc[1][6]\n",
    "        df_weather_data.at[i, 'dest_humidity']= df_weather_arr.iloc[1][7]\n",
    "        df_weather_data.at[i, 'dest_visibilityMiles']= df_weather_arr.iloc[1][8]\n",
    "        df_weather_data.at[i, 'dest_pressureInches']= df_weather_arr.iloc[1][9]\n",
    "        df_weather_data.at[i, 'dest_DewPointC']= df_weather_arr.iloc[1][10]\n",
    "        df_weather_data.at[i, 'dest_cloudcover']= df_weather_arr.iloc[1][11]\n",
    "        df_weather_data.at[i, 'dest_uvIndex']= df_weather_arr.iloc[1][12]\n",
    "    if row['crs_arr_time'] in range (1200, 1800):\n",
    "        df_weather_data.at[i, 'dest_weather_condn']= df_weather_arr.iloc[2][0]\n",
    "        df_weather_data.at[i, 'dest_tempC']= df_weather_arr.iloc[2][1]\n",
    "        df_weather_data.at[i, 'dest_windspeedMiles']= df_weather_arr.iloc[2][2]\n",
    "        df_weather_data.at[i, 'dest_winddir16Point']= df_weather_arr.iloc[2][3]\n",
    "        df_weather_data.at[i, 'dest_WindGustMiles']= df_weather_arr.iloc[2][4]\n",
    "        df_weather_data.at[i, 'dest_WindChillC']= df_weather_arr.iloc[2][5]\n",
    "        df_weather_data.at[i, 'dest_precipInches']= df_weather_arr.iloc[2][6]\n",
    "        df_weather_data.at[i, 'dest_humidity']= df_weather_arr.iloc[2][7]\n",
    "        df_weather_data.at[i, 'dest_visibilityMiles']= df_weather_arr.iloc[2][8]\n",
    "        df_weather_data.at[i, 'dest_pressureInches']= df_weather_arr.iloc[2][9]\n",
    "        df_weather_data.at[i, 'dest_DewPointC']= df_weather_arr.iloc[2][10]\n",
    "        df_weather_data.at[i, 'dest_cloudcover']= df_weather_arr.iloc[2][11]\n",
    "        df_weather_data.at[i, 'dest_uvIndex']= df_weather_arr.iloc[2][12]\n",
    "    if row['crs_arr_time'] in range (1800, 2400):\n",
    "        df_weather_data.at[i, 'dest_weather_condn']= df_weather_arr.iloc[3][0]\n",
    "        df_weather_data.at[i, 'dest_tempC']= df_weather_arr.iloc[3][1]\n",
    "        df_weather_data.at[i, 'dest_windspeedMiles']= df_weather_arr.iloc[3][2]\n",
    "        df_weather_data.at[i, 'dest_winddir16Point']= df_weather_arr.iloc[3][3]\n",
    "        df_weather_data.at[i, 'dest_WindGustMiles']= df_weather_arr.iloc[3][4]\n",
    "        df_weather_data.at[i, 'dest_WindChillC']= df_weather_arr.iloc[3][5]\n",
    "        df_weather_data.at[i, 'dest_precipInches']= df_weather_arr.iloc[3][6]\n",
    "        df_weather_data.at[i, 'dest_humidity']= df_weather_arr.iloc[3][7]\n",
    "        df_weather_data.at[i, 'dest_visibilityMiles']= df_weather_arr.iloc[3][8]\n",
    "        df_weather_data.at[i, 'dest_pressureInches']= df_weather_arr.iloc[3][9]\n",
    "        df_weather_data.at[i, 'dest_DewPointC']= df_weather_arr.iloc[3][10]\n",
    "        df_weather_data.at[i, 'dest_cloudcover']= df_weather_arr.iloc[3][11]\n",
    "        df_weather_data.at[i, 'dest_uvIndex']= df_weather_arr.iloc[3][12]\n",
    "        \n",
    "    df_weather_data.at[i, 'dest_totalSnow_cm']= df_weather_arr['totalSnow_cm']\n",
    "    \n",
    "    i +=1\n"
   ]
  },
  {
   "cell_type": "code",
   "execution_count": 528,
   "metadata": {},
   "outputs": [],
   "source": [
    "df_flights_model = pd.concat([df_flights_feat, df_weather_data], axis = 1)"
   ]
  },
  {
   "cell_type": "code",
   "execution_count": 529,
   "metadata": {},
   "outputs": [],
   "source": [
    "df_flights_model.drop(columns = ['fl_date', 'mkt_carrier_fl_num','op_unique_carrier',\n",
    "                                 'tail_num','op_carrier_fl_num',\n",
    "                                 'origin_airport_id','origin_city_name',\n",
    "                                 'dest_airport_id','dest_city_name',\n",
    "                                 'origin','dest','crs_dep_time','crs_arr_time',\n",
    "                                 'origin_weather_condn','dest_weather_condn',\n",
    "                                 'origin_city','origin_state','dest_city','dest_state',\n",
    "                                 'dep_delay','wheels_off','wheels_on','arr_time', \n",
    "                                 'crs_elapsed_time','dep_time', 'taxi_out', 'taxi_in', \n",
    "                                 'air_time','mkt_unique_carrier', 'origin_winddir16Point', \n",
    "                                 'dest_winddir16Point'],\n",
    "                                 axis = 1, inplace=True)"
   ]
  },
  {
   "cell_type": "code",
   "execution_count": 530,
   "metadata": {},
   "outputs": [
    {
     "data": {
      "image/png": "[encoded data removed]",
      "text/plain": [
       "<Figure size 640x480 with 1 Axes>"
      ]
     },
     "metadata": {},
     "output_type": "display_data"
    }
   ],
   "source": [
    "plt.scatter(df_flights_model['day_of_the_week'], df_flights_model['arr_delay'])\n",
    "plt.show()"
   ]
  },
  {
   "cell_type": "code",
   "execution_count": 531,
   "metadata": {},
   "outputs": [],
   "source": [
    "#dropping the outlier row\n",
    "df_flights_model.drop(df_flights_model[df_flights_model['arr_delay'] == \n",
    "                                       df_flights_model['arr_delay'].max()].index, inplace=True)"
   ]
  },
  {
   "cell_type": "code",
   "execution_count": 632,
   "metadata": {},
   "outputs": [
    {
     "name": "stdout",
     "output_type": "stream",
     "text": [
      "<class 'pandas.core.frame.DataFrame'>\n",
      "Int64Index: 1028 entries, 0 to 1028\n",
      "Data columns (total 26 columns):\n",
      " #   Column                  Non-Null Count  Dtype  \n",
      "---  ------                  --------------  -----  \n",
      " 0   day_of_the_week         1028 non-null   int64  \n",
      " 1   Month                   1028 non-null   int64  \n",
      " 2   arr_delay               1028 non-null   int64  \n",
      " 3   distance                1028 non-null   int64  \n",
      " 4   origin_tempC            1028 non-null   int64  \n",
      " 5   origin_windspeedMiles   1028 non-null   int64  \n",
      " 6   origin_WindGustMiles    1028 non-null   int64  \n",
      " 7   origin_WindChillC       1028 non-null   int64  \n",
      " 8   origin_precipInches     1028 non-null   float64\n",
      " 9   origin_humidity         1028 non-null   int64  \n",
      " 10  origin_visibilityMiles  1028 non-null   int64  \n",
      " 11  origin_pressureInches   1028 non-null   int64  \n",
      " 12  origin_DewPointC        1028 non-null   int64  \n",
      " 13  origin_cloudcover       1028 non-null   int64  \n",
      " 14  origin_uvIndex          1028 non-null   int64  \n",
      " 15  dest_tempC              1028 non-null   int64  \n",
      " 16  dest_windspeedMiles     1028 non-null   int64  \n",
      " 17  dest_WindGustMiles      1028 non-null   int64  \n",
      " 18  dest_WindChillC         1028 non-null   int64  \n",
      " 19  dest_precipInches       1028 non-null   float64\n",
      " 20  dest_humidity           1028 non-null   int64  \n",
      " 21  dest_visibilityMiles    1028 non-null   int64  \n",
      " 22  dest_pressureInches     1028 non-null   int64  \n",
      " 23  dest_DewPointC          1028 non-null   int64  \n",
      " 24  dest_cloudcover         1028 non-null   int64  \n",
      " 25  dest_uvIndex            1028 non-null   int64  \n",
      "dtypes: float64(2), int64(24)\n",
      "memory usage: 216.8 KB\n"
     ]
    }
   ],
   "source": [
    "df_flights_model.info()"
   ]
  },
  {
   "cell_type": "code",
   "execution_count": 532,
   "metadata": {},
   "outputs": [],
   "source": [
    "#scale the numeric variables.\n",
    "from sklearn.preprocessing import StandardScaler\n",
    "# apply StandardScaler to the DataFrame\n",
    "scaler = StandardScaler()\n",
    "df_flights_scaled = scaler.fit_transform(df_flights_model)\n",
    "# convert the scaled DataFrame back to a pandas DataFrame\n",
    "df_flights_scaled = pd.DataFrame(df_flights_scaled, \n",
    "                                         columns=df_flights_model.columns)"
   ]
  },
  {
   "cell_type": "code",
   "execution_count": 533,
   "metadata": {},
   "outputs": [],
   "source": [
    "#extract the target variable in separate dataframe\n",
    "df_flights_target = df_flights_scaled['arr_delay']\n",
    "\n",
    "#drop the target variable from the features dataset\n",
    "df_flights_scaled.drop(columns=['arr_delay'], inplace=True)"
   ]
  },
  {
   "cell_type": "code",
   "execution_count": null,
   "metadata": {},
   "outputs": [],
   "source": [
    "Performing PCA dimensionality reduction analysis"
   ]
  },
  {
   "cell_type": "code",
   "execution_count": 538,
   "metadata": {},
   "outputs": [
    {
     "data": {
      "image/png": "[encoded data removed]",
      "text/plain": [
       "<Figure size 640x480 with 1 Axes>"
      ]
     },
     "metadata": {},
     "output_type": "display_data"
    },
    {
     "name": "stdout",
     "output_type": "stream",
     "text": [
      "individual variance components:  [0.22273549 0.10259246 0.08535926 0.07713395 0.06574917]\n",
      "cumulative variance components:  0.553570321099759\n"
     ]
    }
   ],
   "source": [
    "#perform PCA dimensionality reduction exercise. check for the important features\n",
    "#as per PCA.\n",
    "\n",
    "from sklearn.vdecomposition import PCA\n",
    "\n",
    "#begin with 5 components\n",
    "pca = PCA(n_components=5)\n",
    "\n",
    "df_flights_pca = pca.fit_transform(df_flights_scaled)\n",
    "\n",
    "#plot scree plot to understand the relative importance of each PCA component\n",
    "PC_values = np.arange(pca.n_components_) + 1\n",
    "plt.plot(PC_values, pca.explained_variance_ratio_, 'o-', linewidth=2, color='blue')\n",
    "plt.title('Scree Plot')\n",
    "plt.xlabel('Principal Component')\n",
    "plt.ylabel('Variance Explained')\n",
    "plt.show()\n",
    "\n",
    "print(\"individual variance components: \", pca.explained_variance_ratio_)\n",
    "print(\"cumulative variance components: \", np.sum(pca.explained_variance_ratio_))"
   ]
  },
  {
   "cell_type": "code",
   "execution_count": 539,
   "metadata": {},
   "outputs": [
    {
     "data": {
      "image/png": "[encoded data removed]",
      "text/plain": [
       "<Figure size 640x480 with 1 Axes>"
      ]
     },
     "metadata": {},
     "output_type": "display_data"
    },
    {
     "name": "stdout",
     "output_type": "stream",
     "text": [
      "cumulative variance components:  0.7794470355655345\n"
     ]
    }
   ],
   "source": [
    "#PCA dimensionality reduction\n",
    "from sklearn.decomposition import PCA\n",
    "\n",
    "#try 10 components\n",
    "pca = PCA(n_components=10)\n",
    "\n",
    "df_flights_pca = pca.fit_transform(df_flights_scaled)\n",
    "\n",
    "#plot scree plot to understand the relative importance of each PCA component\n",
    "PC_values = np.arange(pca.n_components_) + 1\n",
    "plt.plot(PC_values, pca.explained_variance_ratio_, 'o-', linewidth=2, color='blue')\n",
    "plt.title('Scree Plot')\n",
    "plt.xlabel('Principal Component')\n",
    "plt.ylabel('Variance Explained')\n",
    "plt.show()\n",
    "\n",
    "print(\"cumulative variance components: \", np.sum(pca.explained_variance_ratio_))"
   ]
  },
  {
   "cell_type": "code",
   "execution_count": 541,
   "metadata": {
    "tags": []
   },
   "outputs": [
    {
     "data": {
      "image/png": "[encoded data removed]",
      "text/plain": [
       "<Figure size 640x480 with 1 Axes>"
      ]
     },
     "metadata": {},
     "output_type": "display_data"
    },
    {
     "name": "stdout",
     "output_type": "stream",
     "text": [
      "cumulative variance components:  0.9239605276680356\n"
     ]
    }
   ],
   "source": [
    "#PCA dimensionality reduction\n",
    "from sklearn.decomposition import PCA\n",
    "\n",
    "#50 components\n",
    "pca = PCA(n_components=15)\n",
    "\n",
    "df_flights_pca = pca.fit_transform(df_flights_scaled)\n",
    "\n",
    "#plot scree plot to understand the relative importance of each PCA component\n",
    "PC_values = np.arange(pca.n_components_) + 1\n",
    "plt.plot(PC_values, pca.explained_variance_ratio_, 'o-', linewidth=2, color='blue')\n",
    "plt.title('Scree Plot')\n",
    "plt.xlabel('Principal Component')\n",
    "plt.ylabel('Variance Explained')\n",
    "plt.show()\n",
    "\n",
    "print(\"cumulative variance components: \", np.sum(pca.explained_variance_ratio_))"
   ]
  },
  {
   "cell_type": "code",
   "execution_count": 542,
   "metadata": {
    "tags": []
   },
   "outputs": [],
   "source": [
    "# list the important features as per PCA analysis\n",
    "n_pcs= pca.components_.shape[0]\n",
    "\n",
    "# get the index of the most important feature on EACH component\n",
    "most_important = [np.abs(pca.components_[i]).argmax() for i in range(n_pcs)]\n",
    "\n",
    "features = df_flights_scaled.columns\n",
    "\n",
    "most_important_names = [features[most_important[i]] for i in range(n_pcs)]\n",
    "\n",
    "dic = {'PC{}'.format(i): most_important_names[i] for i in range(n_pcs)}\n",
    "\n",
    "# build the dataframe\n",
    "df_most_important_features = pd.DataFrame(dic.items(), columns=['PCA','feature'])\n",
    "\n",
    "df_most_important_features.to_csv(\"PCA_most_important_features.csv\", index=False)"
   ]
  },
  {
   "cell_type": "code",
   "execution_count": 543,
   "metadata": {},
   "outputs": [
    {
     "data": {
      "text/html": [
       "<div>\n",
       "<style scoped>\n",
       "    .dataframe tbody tr th:only-of-type {\n",
       "        vertical-align: middle;\n",
       "    }\n",
       "\n",
       "    .dataframe tbody tr th {\n",
       "        vertical-align: top;\n",
       "    }\n",
       "\n",
       "    .dataframe thead th {\n",
       "        text-align: right;\n",
       "    }\n",
       "</style>\n",
       "<table border=\"1\" class=\"dataframe\">\n",
       "  <thead>\n",
       "    <tr style=\"text-align: right;\">\n",
       "      <th></th>\n",
       "      <th>PCA</th>\n",
       "      <th>feature</th>\n",
       "    </tr>\n",
       "  </thead>\n",
       "  <tbody>\n",
       "    <tr>\n",
       "      <th>0</th>\n",
       "      <td>PC0</td>\n",
       "      <td>dest_WindChillC</td>\n",
       "    </tr>\n",
       "    <tr>\n",
       "      <th>1</th>\n",
       "      <td>PC1</td>\n",
       "      <td>origin_humidity</td>\n",
       "    </tr>\n",
       "    <tr>\n",
       "      <th>2</th>\n",
       "      <td>PC2</td>\n",
       "      <td>dest_humidity</td>\n",
       "    </tr>\n",
       "    <tr>\n",
       "      <th>3</th>\n",
       "      <td>PC3</td>\n",
       "      <td>dest_WindGustMiles</td>\n",
       "    </tr>\n",
       "    <tr>\n",
       "      <th>4</th>\n",
       "      <td>PC4</td>\n",
       "      <td>origin_windspeedMiles</td>\n",
       "    </tr>\n",
       "    <tr>\n",
       "      <th>5</th>\n",
       "      <td>PC5</td>\n",
       "      <td>origin_DewPointC</td>\n",
       "    </tr>\n",
       "    <tr>\n",
       "      <th>6</th>\n",
       "      <td>PC6</td>\n",
       "      <td>origin_pressureInches</td>\n",
       "    </tr>\n",
       "    <tr>\n",
       "      <th>7</th>\n",
       "      <td>PC7</td>\n",
       "      <td>origin_precipInches</td>\n",
       "    </tr>\n",
       "    <tr>\n",
       "      <th>8</th>\n",
       "      <td>PC8</td>\n",
       "      <td>day_of_the_week</td>\n",
       "    </tr>\n",
       "    <tr>\n",
       "      <th>9</th>\n",
       "      <td>PC9</td>\n",
       "      <td>distance</td>\n",
       "    </tr>\n",
       "    <tr>\n",
       "      <th>10</th>\n",
       "      <td>PC10</td>\n",
       "      <td>dest_uvIndex</td>\n",
       "    </tr>\n",
       "    <tr>\n",
       "      <th>11</th>\n",
       "      <td>PC11</td>\n",
       "      <td>Month</td>\n",
       "    </tr>\n",
       "    <tr>\n",
       "      <th>12</th>\n",
       "      <td>PC12</td>\n",
       "      <td>dest_pressureInches</td>\n",
       "    </tr>\n",
       "    <tr>\n",
       "      <th>13</th>\n",
       "      <td>PC13</td>\n",
       "      <td>Month</td>\n",
       "    </tr>\n",
       "    <tr>\n",
       "      <th>14</th>\n",
       "      <td>PC14</td>\n",
       "      <td>dest_visibilityMiles</td>\n",
       "    </tr>\n",
       "  </tbody>\n",
       "</table>\n",
       "</div>"
      ],
      "text/plain": [
       "     PCA                feature\n",
       "0    PC0        dest_WindChillC\n",
       "1    PC1        origin_humidity\n",
       "2    PC2          dest_humidity\n",
       "3    PC3     dest_WindGustMiles\n",
       "4    PC4  origin_windspeedMiles\n",
       "5    PC5       origin_DewPointC\n",
       "6    PC6  origin_pressureInches\n",
       "7    PC7    origin_precipInches\n",
       "8    PC8        day_of_the_week\n",
       "9    PC9               distance\n",
       "10  PC10           dest_uvIndex\n",
       "11  PC11                  Month\n",
       "12  PC12    dest_pressureInches\n",
       "13  PC13                  Month\n",
       "14  PC14   dest_visibilityMiles"
      ]
     },
     "execution_count": 543,
     "metadata": {},
     "output_type": "execute_result"
    }
   ],
   "source": [
    "df_most_important_features"
   ]
  },
  {
   "cell_type": "markdown",
   "metadata": {},
   "source": [
    "### Modeling"
   ]
  },
  {
   "cell_type": "markdown",
   "metadata": {},
   "source": [
    "Use different ML techniques to predict each problem.\n",
    "\n",
    "- linear / logistic / multinomial logistic regression\n",
    "- Naive Bayes\n",
    "- Random Forest\n",
    "- SVM\n",
    "- XGBoost\n",
    "- The ensemble of your own choice"
   ]
  },
  {
   "cell_type": "code",
   "execution_count": null,
   "metadata": {},
   "outputs": [],
   "source": [
    "Fit Linear Regression Modeling"
   ]
  },
  {
   "cell_type": "code",
   "execution_count": null,
   "metadata": {},
   "outputs": [],
   "source": [
    "#extract train and test for linear regression\n",
    "from sklearn.model_selection import train_test_split\n",
    "\n",
    "X = df_flights_scaled.values\n",
    "y = df_flights_target.values\n",
    "\n",
    "features = list(df_flights_scaled.iloc[:,:].columns)\n",
    "\n",
    "\n",
    "# assuming X and y are your feature matrix and target variable, respectively\n",
    "X_train, X_test, y_train, y_test = train_test_split(X, y, test_size=0.2, random_state=42)"
   ]
  },
  {
   "cell_type": "code",
   "execution_count": null,
   "metadata": {},
   "outputs": [
    {
     "data": {
      "text/html": [
       "<table class=\"simpletable\">\n",
       "<caption>OLS Regression Results</caption>\n",
       "<tr>\n",
       "  <th>Dep. Variable:</th>            <td>y</td>        <th>  R-squared (uncentered):</th>      <td>   0.038</td>\n",
       "</tr>\n",
       "<tr>\n",
       "  <th>Model:</th>                   <td>OLS</td>       <th>  Adj. R-squared (uncentered):</th> <td>   0.008</td>\n",
       "</tr>\n",
       "<tr>\n",
       "  <th>Method:</th>             <td>Least Squares</td>  <th>  F-statistic:       </th>          <td>   1.271</td>\n",
       "</tr>\n",
       "<tr>\n",
       "  <th>Date:</th>             <td>Fri, 24 Feb 2023</td> <th>  Prob (F-statistic):</th>           <td> 0.170</td> \n",
       "</tr>\n",
       "<tr>\n",
       "  <th>Time:</th>                 <td>01:36:41</td>     <th>  Log-Likelihood:    </th>          <td> -1092.0</td>\n",
       "</tr>\n",
       "<tr>\n",
       "  <th>No. Observations:</th>      <td>   822</td>      <th>  AIC:               </th>          <td>   2234.</td>\n",
       "</tr>\n",
       "<tr>\n",
       "  <th>Df Residuals:</th>          <td>   797</td>      <th>  BIC:               </th>          <td>   2352.</td>\n",
       "</tr>\n",
       "<tr>\n",
       "  <th>Df Model:</th>              <td>    25</td>      <th>                     </th>              <td> </td>   \n",
       "</tr>\n",
       "<tr>\n",
       "  <th>Covariance Type:</th>      <td>nonrobust</td>    <th>                     </th>              <td> </td>   \n",
       "</tr>\n",
       "</table>\n",
       "<table class=\"simpletable\">\n",
       "<tr>\n",
       "             <td></td>               <th>coef</th>     <th>std err</th>      <th>t</th>      <th>P>|t|</th>  <th>[0.025</th>    <th>0.975]</th>  \n",
       "</tr>\n",
       "<tr>\n",
       "  <th>day_of_the_week</th>        <td>   -0.0225</td> <td>    0.034</td> <td>   -0.653</td> <td> 0.514</td> <td>   -0.090</td> <td>    0.045</td>\n",
       "</tr>\n",
       "<tr>\n",
       "  <th>Month</th>                  <td>   -0.0384</td> <td>    0.036</td> <td>   -1.067</td> <td> 0.286</td> <td>   -0.109</td> <td>    0.032</td>\n",
       "</tr>\n",
       "<tr>\n",
       "  <th>distance</th>               <td>   -0.0112</td> <td>    0.033</td> <td>   -0.336</td> <td> 0.737</td> <td>   -0.077</td> <td>    0.054</td>\n",
       "</tr>\n",
       "<tr>\n",
       "  <th>origin_tempC</th>           <td>    0.8831</td> <td>    0.447</td> <td>    1.975</td> <td> 0.049</td> <td>    0.005</td> <td>    1.761</td>\n",
       "</tr>\n",
       "<tr>\n",
       "  <th>origin_windspeedMiles</th>  <td>    0.1057</td> <td>    0.093</td> <td>    1.137</td> <td> 0.256</td> <td>   -0.077</td> <td>    0.288</td>\n",
       "</tr>\n",
       "<tr>\n",
       "  <th>origin_WindGustMiles</th>   <td>   -0.1164</td> <td>    0.093</td> <td>   -1.251</td> <td> 0.211</td> <td>   -0.299</td> <td>    0.066</td>\n",
       "</tr>\n",
       "<tr>\n",
       "  <th>origin_WindChillC</th>      <td>   -0.8678</td> <td>    0.426</td> <td>   -2.035</td> <td> 0.042</td> <td>   -1.705</td> <td>   -0.031</td>\n",
       "</tr>\n",
       "<tr>\n",
       "  <th>origin_precipInches</th>    <td>   -0.0314</td> <td>    0.040</td> <td>   -0.790</td> <td> 0.430</td> <td>   -0.110</td> <td>    0.047</td>\n",
       "</tr>\n",
       "<tr>\n",
       "  <th>origin_humidity</th>        <td>   -0.0106</td> <td>    0.119</td> <td>   -0.089</td> <td> 0.929</td> <td>   -0.243</td> <td>    0.222</td>\n",
       "</tr>\n",
       "<tr>\n",
       "  <th>origin_visibilityMiles</th> <td>   -0.0670</td> <td>    0.040</td> <td>   -1.693</td> <td> 0.091</td> <td>   -0.145</td> <td>    0.011</td>\n",
       "</tr>\n",
       "<tr>\n",
       "  <th>origin_pressureInches</th>  <td>    0.0553</td> <td>    0.038</td> <td>    1.438</td> <td> 0.151</td> <td>   -0.020</td> <td>    0.131</td>\n",
       "</tr>\n",
       "<tr>\n",
       "  <th>origin_DewPointC</th>       <td>    0.0131</td> <td>    0.185</td> <td>    0.070</td> <td> 0.944</td> <td>   -0.351</td> <td>    0.377</td>\n",
       "</tr>\n",
       "<tr>\n",
       "  <th>origin_cloudcover</th>      <td>   -0.0488</td> <td>    0.043</td> <td>   -1.145</td> <td> 0.252</td> <td>   -0.133</td> <td>    0.035</td>\n",
       "</tr>\n",
       "<tr>\n",
       "  <th>origin_uvIndex</th>         <td>   -0.0011</td> <td>    0.050</td> <td>   -0.022</td> <td> 0.983</td> <td>   -0.100</td> <td>    0.098</td>\n",
       "</tr>\n",
       "<tr>\n",
       "  <th>dest_tempC</th>             <td>   -0.0277</td> <td>    0.480</td> <td>   -0.058</td> <td> 0.954</td> <td>   -0.969</td> <td>    0.914</td>\n",
       "</tr>\n",
       "<tr>\n",
       "  <th>dest_windspeedMiles</th>    <td>    0.0426</td> <td>    0.088</td> <td>    0.482</td> <td> 0.630</td> <td>   -0.131</td> <td>    0.216</td>\n",
       "</tr>\n",
       "<tr>\n",
       "  <th>dest_WindGustMiles</th>     <td>   -0.0173</td> <td>    0.086</td> <td>   -0.201</td> <td> 0.841</td> <td>   -0.187</td> <td>    0.152</td>\n",
       "</tr>\n",
       "<tr>\n",
       "  <th>dest_WindChillC</th>        <td>    0.0119</td> <td>    0.470</td> <td>    0.025</td> <td> 0.980</td> <td>   -0.910</td> <td>    0.934</td>\n",
       "</tr>\n",
       "<tr>\n",
       "  <th>dest_precipInches</th>      <td>    0.0085</td> <td>    0.035</td> <td>    0.242</td> <td> 0.809</td> <td>   -0.060</td> <td>    0.077</td>\n",
       "</tr>\n",
       "<tr>\n",
       "  <th>dest_humidity</th>          <td>    0.0812</td> <td>    0.111</td> <td>    0.734</td> <td> 0.463</td> <td>   -0.136</td> <td>    0.298</td>\n",
       "</tr>\n",
       "<tr>\n",
       "  <th>dest_visibilityMiles</th>   <td>   -0.0019</td> <td>    0.039</td> <td>   -0.050</td> <td> 0.960</td> <td>   -0.079</td> <td>    0.075</td>\n",
       "</tr>\n",
       "<tr>\n",
       "  <th>dest_pressureInches</th>    <td>    0.0471</td> <td>    0.036</td> <td>    1.309</td> <td> 0.191</td> <td>   -0.024</td> <td>    0.118</td>\n",
       "</tr>\n",
       "<tr>\n",
       "  <th>dest_DewPointC</th>         <td>   -0.0260</td> <td>    0.192</td> <td>   -0.136</td> <td> 0.892</td> <td>   -0.403</td> <td>    0.351</td>\n",
       "</tr>\n",
       "<tr>\n",
       "  <th>dest_cloudcover</th>        <td>    0.0004</td> <td>    0.041</td> <td>    0.009</td> <td> 0.993</td> <td>   -0.081</td> <td>    0.081</td>\n",
       "</tr>\n",
       "<tr>\n",
       "  <th>dest_uvIndex</th>           <td>   -0.0334</td> <td>    0.045</td> <td>   -0.742</td> <td> 0.459</td> <td>   -0.122</td> <td>    0.055</td>\n",
       "</tr>\n",
       "</table>\n",
       "<table class=\"simpletable\">\n",
       "<tr>\n",
       "  <th>Omnibus:</th>       <td>634.776</td> <th>  Durbin-Watson:     </th> <td>   1.975</td> \n",
       "</tr>\n",
       "<tr>\n",
       "  <th>Prob(Omnibus):</th> <td> 0.000</td>  <th>  Jarque-Bera (JB):  </th> <td>11806.089</td>\n",
       "</tr>\n",
       "<tr>\n",
       "  <th>Skew:</th>          <td> 3.407</td>  <th>  Prob(JB):          </th> <td>    0.00</td> \n",
       "</tr>\n",
       "<tr>\n",
       "  <th>Kurtosis:</th>      <td>20.271</td>  <th>  Cond. No.          </th> <td>    50.5</td> \n",
       "</tr>\n",
       "</table><br/><br/>Notes:<br/>[1] R² is computed without centering (uncentered) since the model does not contain a constant.<br/>[2] Standard Errors assume that the covariance matrix of the errors is correctly specified."
      ],
      "text/plain": [
       "<class 'statsmodels.iolib.summary.Summary'>\n",
       "\"\"\"\n",
       "                                 OLS Regression Results                                \n",
       "=======================================================================================\n",
       "Dep. Variable:                      y   R-squared (uncentered):                   0.038\n",
       "Model:                            OLS   Adj. R-squared (uncentered):              0.008\n",
       "Method:                 Least Squares   F-statistic:                              1.271\n",
       "Date:                Fri, 24 Feb 2023   Prob (F-statistic):                       0.170\n",
       "Time:                        01:36:41   Log-Likelihood:                         -1092.0\n",
       "No. Observations:                 822   AIC:                                      2234.\n",
       "Df Residuals:                     797   BIC:                                      2352.\n",
       "Df Model:                          25                                                  \n",
       "Covariance Type:            nonrobust                                                  \n",
       "==========================================================================================\n",
       "                             coef    std err          t      P>|t|      [0.025      0.975]\n",
       "------------------------------------------------------------------------------------------\n",
       "day_of_the_week           -0.0225      0.034     -0.653      0.514      -0.090       0.045\n",
       "Month                     -0.0384      0.036     -1.067      0.286      -0.109       0.032\n",
       "distance                  -0.0112      0.033     -0.336      0.737      -0.077       0.054\n",
       "origin_tempC               0.8831      0.447      1.975      0.049       0.005       1.761\n",
       "origin_windspeedMiles      0.1057      0.093      1.137      0.256      -0.077       0.288\n",
       "origin_WindGustMiles      -0.1164      0.093     -1.251      0.211      -0.299       0.066\n",
       "origin_WindChillC         -0.8678      0.426     -2.035      0.042      -1.705      -0.031\n",
       "origin_precipInches       -0.0314      0.040     -0.790      0.430      -0.110       0.047\n",
       "origin_humidity           -0.0106      0.119     -0.089      0.929      -0.243       0.222\n",
       "origin_visibilityMiles    -0.0670      0.040     -1.693      0.091      -0.145       0.011\n",
       "origin_pressureInches      0.0553      0.038      1.438      0.151      -0.020       0.131\n",
       "origin_DewPointC           0.0131      0.185      0.070      0.944      -0.351       0.377\n",
       "origin_cloudcover         -0.0488      0.043     -1.145      0.252      -0.133       0.035\n",
       "origin_uvIndex            -0.0011      0.050     -0.022      0.983      -0.100       0.098\n",
       "dest_tempC                -0.0277      0.480     -0.058      0.954      -0.969       0.914\n",
       "dest_windspeedMiles        0.0426      0.088      0.482      0.630      -0.131       0.216\n",
       "dest_WindGustMiles        -0.0173      0.086     -0.201      0.841      -0.187       0.152\n",
       "dest_WindChillC            0.0119      0.470      0.025      0.980      -0.910       0.934\n",
       "dest_precipInches          0.0085      0.035      0.242      0.809      -0.060       0.077\n",
       "dest_humidity              0.0812      0.111      0.734      0.463      -0.136       0.298\n",
       "dest_visibilityMiles      -0.0019      0.039     -0.050      0.960      -0.079       0.075\n",
       "dest_pressureInches        0.0471      0.036      1.309      0.191      -0.024       0.118\n",
       "dest_DewPointC            -0.0260      0.192     -0.136      0.892      -0.403       0.351\n",
       "dest_cloudcover            0.0004      0.041      0.009      0.993      -0.081       0.081\n",
       "dest_uvIndex              -0.0334      0.045     -0.742      0.459      -0.122       0.055\n",
       "==============================================================================\n",
       "Omnibus:                      634.776   Durbin-Watson:                   1.975\n",
       "Prob(Omnibus):                  0.000   Jarque-Bera (JB):            11806.089\n",
       "Skew:                           3.407   Prob(JB):                         0.00\n",
       "Kurtosis:                      20.271   Cond. No.                         50.5\n",
       "==============================================================================\n",
       "\n",
       "Notes:\n",
       "[1] R² is computed without centering (uncentered) since the model does not contain a constant.\n",
       "[2] Standard Errors assume that the covariance matrix of the errors is correctly specified.\n",
       "\"\"\""
      ]
     },
     "execution_count": 537,
     "metadata": {},
     "output_type": "execute_result"
    }
   ],
   "source": [
    "#perform linear regression and fit the model. study the results and features\n",
    "#statistical significance\n",
    "import statsmodels.api as sm\n",
    "\n",
    "# add a constant to the X variable\n",
    "#X_train = sm.add_constant(X_train)\n",
    "\n",
    "# create the OLS model\n",
    "model = sm.OLS(y_train, X_train)\n",
    "\n",
    "# fit the model\n",
    "results = model.fit()\n",
    "\n",
    "results.summary(xname=features)"
   ]
  },
  {
   "cell_type": "code",
   "execution_count": null,
   "metadata": {},
   "outputs": [],
   "source": [
    "Fit XGBOOST Modeling"
   ]
  },
  {
   "cell_type": "code",
   "execution_count": null,
   "metadata": {},
   "outputs": [],
   "source": [
    "from xgboost import XGBRegressor\n",
    "from sklearn.model_selection import GridSearchCV"
   ]
  },
  {
   "cell_type": "code",
   "execution_count": 545,
   "metadata": {},
   "outputs": [
    {
     "data": {
      "text/html": [
       "<style>#sk-container-id-3 {color: black;background-color: white;}#sk-container-id-3 pre{padding: 0;}#sk-container-id-3 div.sk-toggleable {background-color: white;}#sk-container-id-3 label.sk-toggleable__label {cursor: pointer;display: block;width: 100%;margin-bottom: 0;padding: 0.3em;box-sizing: border-box;text-align: center;}#sk-container-id-3 label.sk-toggleable__label-arrow:before {content: \"▸\";float: left;margin-right: 0.25em;color: #696969;}#sk-container-id-3 label.sk-toggleable__label-arrow:hover:before {color: black;}#sk-container-id-3 div.sk-estimator:hover label.sk-toggleable__label-arrow:before {color: black;}#sk-container-id-3 div.sk-toggleable__content {max-height: 0;max-width: 0;overflow: hidden;text-align: left;background-color: #f0f8ff;}#sk-container-id-3 div.sk-toggleable__content pre {margin: 0.2em;color: black;border-radius: 0.25em;background-color: #f0f8ff;}#sk-container-id-3 input.sk-toggleable__control:checked~div.sk-toggleable__content {max-height: 200px;max-width: 100%;overflow: auto;}#sk-container-id-3 input.sk-toggleable__control:checked~label.sk-toggleable__label-arrow:before {content: \"▾\";}#sk-container-id-3 div.sk-estimator input.sk-toggleable__control:checked~label.sk-toggleable__label {background-color: #d4ebff;}#sk-container-id-3 div.sk-label input.sk-toggleable__control:checked~label.sk-toggleable__label {background-color: #d4ebff;}#sk-container-id-3 input.sk-hidden--visually {border: 0;clip: rect(1px 1px 1px 1px);clip: rect(1px, 1px, 1px, 1px);height: 1px;margin: -1px;overflow: hidden;padding: 0;position: absolute;width: 1px;}#sk-container-id-3 div.sk-estimator {font-family: monospace;background-color: #f0f8ff;border: 1px dotted black;border-radius: 0.25em;box-sizing: border-box;margin-bottom: 0.5em;}#sk-container-id-3 div.sk-estimator:hover {background-color: #d4ebff;}#sk-container-id-3 div.sk-parallel-item::after {content: \"\";width: 100%;border-bottom: 1px solid gray;flex-grow: 1;}#sk-container-id-3 div.sk-label:hover label.sk-toggleable__label {background-color: #d4ebff;}#sk-container-id-3 div.sk-serial::before {content: \"\";position: absolute;border-left: 1px solid gray;box-sizing: border-box;top: 0;bottom: 0;left: 50%;z-index: 0;}#sk-container-id-3 div.sk-serial {display: flex;flex-direction: column;align-items: center;background-color: white;padding-right: 0.2em;padding-left: 0.2em;position: relative;}#sk-container-id-3 div.sk-item {position: relative;z-index: 1;}#sk-container-id-3 div.sk-parallel {display: flex;align-items: stretch;justify-content: center;background-color: white;position: relative;}#sk-container-id-3 div.sk-item::before, #sk-container-id-3 div.sk-parallel-item::before {content: \"\";position: absolute;border-left: 1px solid gray;box-sizing: border-box;top: 0;bottom: 0;left: 50%;z-index: -1;}#sk-container-id-3 div.sk-parallel-item {display: flex;flex-direction: column;z-index: 1;position: relative;background-color: white;}#sk-container-id-3 div.sk-parallel-item:first-child::after {align-self: flex-end;width: 50%;}#sk-container-id-3 div.sk-parallel-item:last-child::after {align-self: flex-start;width: 50%;}#sk-container-id-3 div.sk-parallel-item:only-child::after {width: 0;}#sk-container-id-3 div.sk-dashed-wrapped {border: 1px dashed gray;margin: 0 0.4em 0.5em 0.4em;box-sizing: border-box;padding-bottom: 0.4em;background-color: white;}#sk-container-id-3 div.sk-label label {font-family: monospace;font-weight: bold;display: inline-block;line-height: 1.2em;}#sk-container-id-3 div.sk-label-container {text-align: center;}#sk-container-id-3 div.sk-container {/* jupyter's `normalize.less` sets `[hidden] { display: none; }` but bootstrap.min.css set `[hidden] { display: none !important; }` so we also need the `!important` here to be able to override the default hidden behavior on the sphinx rendered scikit-learn.org. See: https://github.com/scikit-learn/scikit-learn/issues/21755 */display: inline-block !important;position: relative;}#sk-container-id-3 div.sk-text-repr-fallback {display: none;}</style><div id=\"sk-container-id-3\" class=\"sk-top-container\"><div class=\"sk-text-repr-fallback\"><pre>GridSearchCV(cv=5,\n",
       "             estimator=XGBRegressor(base_score=None, booster=None,\n",
       "                                    callbacks=None, colsample_bylevel=None,\n",
       "                                    colsample_bynode=None,\n",
       "                                    colsample_bytree=None,\n",
       "                                    early_stopping_rounds=None,\n",
       "                                    enable_categorical=False, eval_metric=None,\n",
       "                                    feature_types=None, gamma=None, gpu_id=None,\n",
       "                                    grow_policy=None, importance_type=None,\n",
       "                                    interaction_constraints=None,\n",
       "                                    learning_rate=None, m...\n",
       "                                    max_depth=None, max_leaves=None,\n",
       "                                    min_child_weight=None, missing=nan,\n",
       "                                    monotone_constraints=None, n_estimators=100,\n",
       "                                    n_jobs=None, num_parallel_tree=None,\n",
       "                                    predictor=None, random_state=None, ...),\n",
       "             n_jobs=10,\n",
       "             param_grid={&#x27;learning_rate&#x27;: array([0.01, 0.03, 0.05, 0.07, 0.09, 0.11, 0.13, 0.15, 0.17, 0.19]),\n",
       "                         &#x27;max_depth&#x27;: range(2, 10),\n",
       "                         &#x27;n_estimators&#x27;: range(60, 220, 20),\n",
       "                         &#x27;random_state&#x27;: [42]})</pre><b>In a Jupyter environment, please rerun this cell to show the HTML representation or trust the notebook. <br />On GitHub, the HTML representation is unable to render, please try loading this page with nbviewer.org.</b></div><div class=\"sk-container\" hidden><div class=\"sk-item sk-dashed-wrapped\"><div class=\"sk-label-container\"><div class=\"sk-label sk-toggleable\"><input class=\"sk-toggleable__control sk-hidden--visually\" id=\"sk-estimator-id-5\" type=\"checkbox\" ><label for=\"sk-estimator-id-5\" class=\"sk-toggleable__label sk-toggleable__label-arrow\">GridSearchCV</label><div class=\"sk-toggleable__content\"><pre>GridSearchCV(cv=5,\n",
       "             estimator=XGBRegressor(base_score=None, booster=None,\n",
       "                                    callbacks=None, colsample_bylevel=None,\n",
       "                                    colsample_bynode=None,\n",
       "                                    colsample_bytree=None,\n",
       "                                    early_stopping_rounds=None,\n",
       "                                    enable_categorical=False, eval_metric=None,\n",
       "                                    feature_types=None, gamma=None, gpu_id=None,\n",
       "                                    grow_policy=None, importance_type=None,\n",
       "                                    interaction_constraints=None,\n",
       "                                    learning_rate=None, m...\n",
       "                                    max_depth=None, max_leaves=None,\n",
       "                                    min_child_weight=None, missing=nan,\n",
       "                                    monotone_constraints=None, n_estimators=100,\n",
       "                                    n_jobs=None, num_parallel_tree=None,\n",
       "                                    predictor=None, random_state=None, ...),\n",
       "             n_jobs=10,\n",
       "             param_grid={&#x27;learning_rate&#x27;: array([0.01, 0.03, 0.05, 0.07, 0.09, 0.11, 0.13, 0.15, 0.17, 0.19]),\n",
       "                         &#x27;max_depth&#x27;: range(2, 10),\n",
       "                         &#x27;n_estimators&#x27;: range(60, 220, 20),\n",
       "                         &#x27;random_state&#x27;: [42]})</pre></div></div></div><div class=\"sk-parallel\"><div class=\"sk-parallel-item\"><div class=\"sk-item\"><div class=\"sk-label-container\"><div class=\"sk-label sk-toggleable\"><input class=\"sk-toggleable__control sk-hidden--visually\" id=\"sk-estimator-id-6\" type=\"checkbox\" ><label for=\"sk-estimator-id-6\" class=\"sk-toggleable__label sk-toggleable__label-arrow\">estimator: XGBRegressor</label><div class=\"sk-toggleable__content\"><pre>XGBRegressor(base_score=None, booster=None, callbacks=None,\n",
       "             colsample_bylevel=None, colsample_bynode=None,\n",
       "             colsample_bytree=None, early_stopping_rounds=None,\n",
       "             enable_categorical=False, eval_metric=None, feature_types=None,\n",
       "             gamma=None, gpu_id=None, grow_policy=None, importance_type=None,\n",
       "             interaction_constraints=None, learning_rate=None, max_bin=None,\n",
       "             max_cat_threshold=None, max_cat_to_onehot=None,\n",
       "             max_delta_step=None, max_depth=None, max_leaves=None,\n",
       "             min_child_weight=None, missing=nan, monotone_constraints=None,\n",
       "             n_estimators=100, n_jobs=None, num_parallel_tree=None,\n",
       "             predictor=None, random_state=None, ...)</pre></div></div></div><div class=\"sk-serial\"><div class=\"sk-item\"><div class=\"sk-estimator sk-toggleable\"><input class=\"sk-toggleable__control sk-hidden--visually\" id=\"sk-estimator-id-7\" type=\"checkbox\" ><label for=\"sk-estimator-id-7\" class=\"sk-toggleable__label sk-toggleable__label-arrow\">XGBRegressor</label><div class=\"sk-toggleable__content\"><pre>XGBRegressor(base_score=None, booster=None, callbacks=None,\n",
       "             colsample_bylevel=None, colsample_bynode=None,\n",
       "             colsample_bytree=None, early_stopping_rounds=None,\n",
       "             enable_categorical=False, eval_metric=None, feature_types=None,\n",
       "             gamma=None, gpu_id=None, grow_policy=None, importance_type=None,\n",
       "             interaction_constraints=None, learning_rate=None, max_bin=None,\n",
       "             max_cat_threshold=None, max_cat_to_onehot=None,\n",
       "             max_delta_step=None, max_depth=None, max_leaves=None,\n",
       "             min_child_weight=None, missing=nan, monotone_constraints=None,\n",
       "             n_estimators=100, n_jobs=None, num_parallel_tree=None,\n",
       "             predictor=None, random_state=None, ...)</pre></div></div></div></div></div></div></div></div></div></div>"
      ],
      "text/plain": [
       "GridSearchCV(cv=5,\n",
       "             estimator=XGBRegressor(base_score=None, booster=None,\n",
       "                                    callbacks=None, colsample_bylevel=None,\n",
       "                                    colsample_bynode=None,\n",
       "                                    colsample_bytree=None,\n",
       "                                    early_stopping_rounds=None,\n",
       "                                    enable_categorical=False, eval_metric=None,\n",
       "                                    feature_types=None, gamma=None, gpu_id=None,\n",
       "                                    grow_policy=None, importance_type=None,\n",
       "                                    interaction_constraints=None,\n",
       "                                    learning_rate=None, m...\n",
       "                                    max_depth=None, max_leaves=None,\n",
       "                                    min_child_weight=None, missing=nan,\n",
       "                                    monotone_constraints=None, n_estimators=100,\n",
       "                                    n_jobs=None, num_parallel_tree=None,\n",
       "                                    predictor=None, random_state=None, ...),\n",
       "             n_jobs=10,\n",
       "             param_grid={'learning_rate': array([0.01, 0.03, 0.05, 0.07, 0.09, 0.11, 0.13, 0.15, 0.17, 0.19]),\n",
       "                         'max_depth': range(2, 10),\n",
       "                         'n_estimators': range(60, 220, 20),\n",
       "                         'random_state': [42]})"
      ]
     },
     "execution_count": 545,
     "metadata": {},
     "output_type": "execute_result"
    }
   ],
   "source": [
    "X = df_flights_scaled\n",
    "Y = df_flights_target\n",
    "\n",
    "estimator = XGBRegressor(objective= 'reg:squarederror')\n",
    "\n",
    "parameters = {\n",
    "    'max_depth': range (2, 10, 1),\n",
    "    'n_estimators': range(60, 220, 20),\n",
    "    'learning_rate': np.arange(0.01, 0.2, 0.02),\n",
    "    'random_state': [42]\n",
    "}\n",
    "\n",
    "grid_search = GridSearchCV(\n",
    "    estimator=estimator,\n",
    "    param_grid=parameters,\n",
    "    n_jobs = 10,\n",
    "    cv = 5\n",
    ")\n",
    "\n",
    "grid_search.fit(X, Y)"
   ]
  },
  {
   "cell_type": "code",
   "execution_count": 546,
   "metadata": {},
   "outputs": [
    {
     "data": {
      "text/html": [
       "<style>#sk-container-id-4 {color: black;background-color: white;}#sk-container-id-4 pre{padding: 0;}#sk-container-id-4 div.sk-toggleable {background-color: white;}#sk-container-id-4 label.sk-toggleable__label {cursor: pointer;display: block;width: 100%;margin-bottom: 0;padding: 0.3em;box-sizing: border-box;text-align: center;}#sk-container-id-4 label.sk-toggleable__label-arrow:before {content: \"▸\";float: left;margin-right: 0.25em;color: #696969;}#sk-container-id-4 label.sk-toggleable__label-arrow:hover:before {color: black;}#sk-container-id-4 div.sk-estimator:hover label.sk-toggleable__label-arrow:before {color: black;}#sk-container-id-4 div.sk-toggleable__content {max-height: 0;max-width: 0;overflow: hidden;text-align: left;background-color: #f0f8ff;}#sk-container-id-4 div.sk-toggleable__content pre {margin: 0.2em;color: black;border-radius: 0.25em;background-color: #f0f8ff;}#sk-container-id-4 input.sk-toggleable__control:checked~div.sk-toggleable__content {max-height: 200px;max-width: 100%;overflow: auto;}#sk-container-id-4 input.sk-toggleable__control:checked~label.sk-toggleable__label-arrow:before {content: \"▾\";}#sk-container-id-4 div.sk-estimator input.sk-toggleable__control:checked~label.sk-toggleable__label {background-color: #d4ebff;}#sk-container-id-4 div.sk-label input.sk-toggleable__control:checked~label.sk-toggleable__label {background-color: #d4ebff;}#sk-container-id-4 input.sk-hidden--visually {border: 0;clip: rect(1px 1px 1px 1px);clip: rect(1px, 1px, 1px, 1px);height: 1px;margin: -1px;overflow: hidden;padding: 0;position: absolute;width: 1px;}#sk-container-id-4 div.sk-estimator {font-family: monospace;background-color: #f0f8ff;border: 1px dotted black;border-radius: 0.25em;box-sizing: border-box;margin-bottom: 0.5em;}#sk-container-id-4 div.sk-estimator:hover {background-color: #d4ebff;}#sk-container-id-4 div.sk-parallel-item::after {content: \"\";width: 100%;border-bottom: 1px solid gray;flex-grow: 1;}#sk-container-id-4 div.sk-label:hover label.sk-toggleable__label {background-color: #d4ebff;}#sk-container-id-4 div.sk-serial::before {content: \"\";position: absolute;border-left: 1px solid gray;box-sizing: border-box;top: 0;bottom: 0;left: 50%;z-index: 0;}#sk-container-id-4 div.sk-serial {display: flex;flex-direction: column;align-items: center;background-color: white;padding-right: 0.2em;padding-left: 0.2em;position: relative;}#sk-container-id-4 div.sk-item {position: relative;z-index: 1;}#sk-container-id-4 div.sk-parallel {display: flex;align-items: stretch;justify-content: center;background-color: white;position: relative;}#sk-container-id-4 div.sk-item::before, #sk-container-id-4 div.sk-parallel-item::before {content: \"\";position: absolute;border-left: 1px solid gray;box-sizing: border-box;top: 0;bottom: 0;left: 50%;z-index: -1;}#sk-container-id-4 div.sk-parallel-item {display: flex;flex-direction: column;z-index: 1;position: relative;background-color: white;}#sk-container-id-4 div.sk-parallel-item:first-child::after {align-self: flex-end;width: 50%;}#sk-container-id-4 div.sk-parallel-item:last-child::after {align-self: flex-start;width: 50%;}#sk-container-id-4 div.sk-parallel-item:only-child::after {width: 0;}#sk-container-id-4 div.sk-dashed-wrapped {border: 1px dashed gray;margin: 0 0.4em 0.5em 0.4em;box-sizing: border-box;padding-bottom: 0.4em;background-color: white;}#sk-container-id-4 div.sk-label label {font-family: monospace;font-weight: bold;display: inline-block;line-height: 1.2em;}#sk-container-id-4 div.sk-label-container {text-align: center;}#sk-container-id-4 div.sk-container {/* jupyter's `normalize.less` sets `[hidden] { display: none; }` but bootstrap.min.css set `[hidden] { display: none !important; }` so we also need the `!important` here to be able to override the default hidden behavior on the sphinx rendered scikit-learn.org. See: https://github.com/scikit-learn/scikit-learn/issues/21755 */display: inline-block !important;position: relative;}#sk-container-id-4 div.sk-text-repr-fallback {display: none;}</style><div id=\"sk-container-id-4\" class=\"sk-top-container\"><div class=\"sk-text-repr-fallback\"><pre>XGBRegressor(base_score=0.5, booster=&#x27;gbtree&#x27;, callbacks=None,\n",
       "             colsample_bylevel=1, colsample_bynode=1, colsample_bytree=1,\n",
       "             early_stopping_rounds=None, enable_categorical=False,\n",
       "             eval_metric=None, feature_types=None, gamma=0, gpu_id=-1,\n",
       "             grow_policy=&#x27;depthwise&#x27;, importance_type=None,\n",
       "             interaction_constraints=&#x27;&#x27;, learning_rate=0.01, max_bin=256,\n",
       "             max_cat_threshold=64, max_cat_to_onehot=4, max_delta_step=0,\n",
       "             max_depth=2, max_leaves=0, min_child_weight=1, missing=nan,\n",
       "             monotone_constraints=&#x27;()&#x27;, n_estimators=160, n_jobs=0,\n",
       "             num_parallel_tree=1, predictor=&#x27;auto&#x27;, random_state=42, ...)</pre><b>In a Jupyter environment, please rerun this cell to show the HTML representation or trust the notebook. <br />On GitHub, the HTML representation is unable to render, please try loading this page with nbviewer.org.</b></div><div class=\"sk-container\" hidden><div class=\"sk-item\"><div class=\"sk-estimator sk-toggleable\"><input class=\"sk-toggleable__control sk-hidden--visually\" id=\"sk-estimator-id-8\" type=\"checkbox\" checked><label for=\"sk-estimator-id-8\" class=\"sk-toggleable__label sk-toggleable__label-arrow\">XGBRegressor</label><div class=\"sk-toggleable__content\"><pre>XGBRegressor(base_score=0.5, booster=&#x27;gbtree&#x27;, callbacks=None,\n",
       "             colsample_bylevel=1, colsample_bynode=1, colsample_bytree=1,\n",
       "             early_stopping_rounds=None, enable_categorical=False,\n",
       "             eval_metric=None, feature_types=None, gamma=0, gpu_id=-1,\n",
       "             grow_policy=&#x27;depthwise&#x27;, importance_type=None,\n",
       "             interaction_constraints=&#x27;&#x27;, learning_rate=0.01, max_bin=256,\n",
       "             max_cat_threshold=64, max_cat_to_onehot=4, max_delta_step=0,\n",
       "             max_depth=2, max_leaves=0, min_child_weight=1, missing=nan,\n",
       "             monotone_constraints=&#x27;()&#x27;, n_estimators=160, n_jobs=0,\n",
       "             num_parallel_tree=1, predictor=&#x27;auto&#x27;, random_state=42, ...)</pre></div></div></div></div></div>"
      ],
      "text/plain": [
       "XGBRegressor(base_score=0.5, booster='gbtree', callbacks=None,\n",
       "             colsample_bylevel=1, colsample_bynode=1, colsample_bytree=1,\n",
       "             early_stopping_rounds=None, enable_categorical=False,\n",
       "             eval_metric=None, feature_types=None, gamma=0, gpu_id=-1,\n",
       "             grow_policy='depthwise', importance_type=None,\n",
       "             interaction_constraints='', learning_rate=0.01, max_bin=256,\n",
       "             max_cat_threshold=64, max_cat_to_onehot=4, max_delta_step=0,\n",
       "             max_depth=2, max_leaves=0, min_child_weight=1, missing=nan,\n",
       "             monotone_constraints='()', n_estimators=160, n_jobs=0,\n",
       "             num_parallel_tree=1, predictor='auto', random_state=42, ...)"
      ]
     },
     "execution_count": 546,
     "metadata": {},
     "output_type": "execute_result"
    }
   ],
   "source": [
    "grid_search.best_estimator_"
   ]
  },
  {
   "cell_type": "code",
   "execution_count": 547,
   "metadata": {},
   "outputs": [
    {
     "data": {
      "text/plain": [
       "{'learning_rate': 0.01,\n",
       " 'max_depth': 2,\n",
       " 'n_estimators': 160,\n",
       " 'random_state': 42}"
      ]
     },
     "execution_count": 547,
     "metadata": {},
     "output_type": "execute_result"
    }
   ],
   "source": [
    "grid_search.best_params_"
   ]
  },
  {
   "cell_type": "code",
   "execution_count": 548,
   "metadata": {},
   "outputs": [
    {
     "data": {
      "text/plain": [
       "5"
      ]
     },
     "execution_count": 548,
     "metadata": {},
     "output_type": "execute_result"
    }
   ],
   "source": [
    "grid_search.best_index_"
   ]
  },
  {
   "cell_type": "code",
   "execution_count": 549,
   "metadata": {},
   "outputs": [
    {
     "data": {
      "text/plain": [
       "mean_fit_time                                                   0.090774\n",
       "std_fit_time                                                    0.010217\n",
       "mean_score_time                                                 0.002183\n",
       "std_score_time                                                  0.001153\n",
       "param_learning_rate                                                 0.01\n",
       "param_max_depth                                                        2\n",
       "param_n_estimators                                                   160\n",
       "param_random_state                                                    42\n",
       "params                 {'learning_rate': 0.01, 'max_depth': 2, 'n_est...\n",
       "split0_test_score                                              -0.173297\n",
       "split1_test_score                                               0.069418\n",
       "split2_test_score                                               0.001576\n",
       "split3_test_score                                               -0.04251\n",
       "split4_test_score                                              -0.034249\n",
       "mean_test_score                                                -0.035812\n",
       "std_test_score                                                  0.079272\n",
       "rank_test_score                                                        1\n",
       "Name: 5, dtype: object"
      ]
     },
     "execution_count": 549,
     "metadata": {},
     "output_type": "execute_result"
    }
   ],
   "source": [
    "cv_results = pd.DataFrame(grid_search.cv_results_)\n",
    "cv_results.iloc[5]"
   ]
  },
  {
   "cell_type": "code",
   "execution_count": 550,
   "metadata": {},
   "outputs": [
    {
     "data": {
      "text/plain": [
       "25"
      ]
     },
     "execution_count": 550,
     "metadata": {},
     "output_type": "execute_result"
    }
   ],
   "source": [
    "grid_search.n_features_in_"
   ]
  },
  {
   "cell_type": "code",
   "execution_count": null,
   "metadata": {},
   "outputs": [],
   "source": [
    "Predicting the results on training data to cross check performance"
   ]
  },
  {
   "cell_type": "code",
   "execution_count": 612,
   "metadata": {},
   "outputs": [
    {
     "data": {
      "text/html": [
       "<div>\n",
       "<style scoped>\n",
       "    .dataframe tbody tr th:only-of-type {\n",
       "        vertical-align: middle;\n",
       "    }\n",
       "\n",
       "    .dataframe tbody tr th {\n",
       "        vertical-align: top;\n",
       "    }\n",
       "\n",
       "    .dataframe thead th {\n",
       "        text-align: right;\n",
       "    }\n",
       "</style>\n",
       "<table border=\"1\" class=\"dataframe\">\n",
       "  <thead>\n",
       "    <tr style=\"text-align: right;\">\n",
       "      <th></th>\n",
       "      <th>arr_delay</th>\n",
       "      <th>pred_arr_delay</th>\n",
       "    </tr>\n",
       "  </thead>\n",
       "  <tbody>\n",
       "    <tr>\n",
       "      <th>0</th>\n",
       "      <td>-0.182430</td>\n",
       "      <td>0.071235</td>\n",
       "    </tr>\n",
       "    <tr>\n",
       "      <th>1</th>\n",
       "      <td>-0.327959</td>\n",
       "      <td>0.082862</td>\n",
       "    </tr>\n",
       "    <tr>\n",
       "      <th>2</th>\n",
       "      <td>-0.958583</td>\n",
       "      <td>0.086205</td>\n",
       "    </tr>\n",
       "    <tr>\n",
       "      <th>3</th>\n",
       "      <td>3.334515</td>\n",
       "      <td>0.160331</td>\n",
       "    </tr>\n",
       "    <tr>\n",
       "      <th>4</th>\n",
       "      <td>-0.667526</td>\n",
       "      <td>0.086205</td>\n",
       "    </tr>\n",
       "    <tr>\n",
       "      <th>...</th>\n",
       "      <td>...</td>\n",
       "      <td>...</td>\n",
       "    </tr>\n",
       "    <tr>\n",
       "      <th>1023</th>\n",
       "      <td>0.763507</td>\n",
       "      <td>0.086205</td>\n",
       "    </tr>\n",
       "    <tr>\n",
       "      <th>1024</th>\n",
       "      <td>-0.473488</td>\n",
       "      <td>0.050581</td>\n",
       "    </tr>\n",
       "    <tr>\n",
       "      <th>1025</th>\n",
       "      <td>-0.109666</td>\n",
       "      <td>0.065551</td>\n",
       "    </tr>\n",
       "    <tr>\n",
       "      <th>1026</th>\n",
       "      <td>-0.619016</td>\n",
       "      <td>0.176074</td>\n",
       "    </tr>\n",
       "    <tr>\n",
       "      <th>1027</th>\n",
       "      <td>-0.449233</td>\n",
       "      <td>0.034838</td>\n",
       "    </tr>\n",
       "  </tbody>\n",
       "</table>\n",
       "<p>1028 rows × 2 columns</p>\n",
       "</div>"
      ],
      "text/plain": [
       "      arr_delay  pred_arr_delay\n",
       "0     -0.182430        0.071235\n",
       "1     -0.327959        0.082862\n",
       "2     -0.958583        0.086205\n",
       "3      3.334515        0.160331\n",
       "4     -0.667526        0.086205\n",
       "...         ...             ...\n",
       "1023   0.763507        0.086205\n",
       "1024  -0.473488        0.050581\n",
       "1025  -0.109666        0.065551\n",
       "1026  -0.619016        0.176074\n",
       "1027  -0.449233        0.034838\n",
       "\n",
       "[1028 rows x 2 columns]"
      ]
     },
     "execution_count": 612,
     "metadata": {},
     "output_type": "execute_result"
    }
   ],
   "source": [
    "Y_pred = grid_search.predict(X)\n",
    "df_Y_pred = pd.DataFrame(Y_pred, columns=['pred_arr_delay'])\n",
    "df_Y_pred = pd.concat([X, Y, df_Y_pred], axis=1)\n",
    "df_Y_pred_show = df_Y_pred.iloc[:,-2:]\n",
    "df_Y_pred_show"
   ]
  },
  {
   "cell_type": "code",
   "execution_count": 616,
   "metadata": {},
   "outputs": [
    {
     "data": {
      "text/html": [
       "<style>#sk-container-id-8 {color: black;background-color: white;}#sk-container-id-8 pre{padding: 0;}#sk-container-id-8 div.sk-toggleable {background-color: white;}#sk-container-id-8 label.sk-toggleable__label {cursor: pointer;display: block;width: 100%;margin-bottom: 0;padding: 0.3em;box-sizing: border-box;text-align: center;}#sk-container-id-8 label.sk-toggleable__label-arrow:before {content: \"▸\";float: left;margin-right: 0.25em;color: #696969;}#sk-container-id-8 label.sk-toggleable__label-arrow:hover:before {color: black;}#sk-container-id-8 div.sk-estimator:hover label.sk-toggleable__label-arrow:before {color: black;}#sk-container-id-8 div.sk-toggleable__content {max-height: 0;max-width: 0;overflow: hidden;text-align: left;background-color: #f0f8ff;}#sk-container-id-8 div.sk-toggleable__content pre {margin: 0.2em;color: black;border-radius: 0.25em;background-color: #f0f8ff;}#sk-container-id-8 input.sk-toggleable__control:checked~div.sk-toggleable__content {max-height: 200px;max-width: 100%;overflow: auto;}#sk-container-id-8 input.sk-toggleable__control:checked~label.sk-toggleable__label-arrow:before {content: \"▾\";}#sk-container-id-8 div.sk-estimator input.sk-toggleable__control:checked~label.sk-toggleable__label {background-color: #d4ebff;}#sk-container-id-8 div.sk-label input.sk-toggleable__control:checked~label.sk-toggleable__label {background-color: #d4ebff;}#sk-container-id-8 input.sk-hidden--visually {border: 0;clip: rect(1px 1px 1px 1px);clip: rect(1px, 1px, 1px, 1px);height: 1px;margin: -1px;overflow: hidden;padding: 0;position: absolute;width: 1px;}#sk-container-id-8 div.sk-estimator {font-family: monospace;background-color: #f0f8ff;border: 1px dotted black;border-radius: 0.25em;box-sizing: border-box;margin-bottom: 0.5em;}#sk-container-id-8 div.sk-estimator:hover {background-color: #d4ebff;}#sk-container-id-8 div.sk-parallel-item::after {content: \"\";width: 100%;border-bottom: 1px solid gray;flex-grow: 1;}#sk-container-id-8 div.sk-label:hover label.sk-toggleable__label {background-color: #d4ebff;}#sk-container-id-8 div.sk-serial::before {content: \"\";position: absolute;border-left: 1px solid gray;box-sizing: border-box;top: 0;bottom: 0;left: 50%;z-index: 0;}#sk-container-id-8 div.sk-serial {display: flex;flex-direction: column;align-items: center;background-color: white;padding-right: 0.2em;padding-left: 0.2em;position: relative;}#sk-container-id-8 div.sk-item {position: relative;z-index: 1;}#sk-container-id-8 div.sk-parallel {display: flex;align-items: stretch;justify-content: center;background-color: white;position: relative;}#sk-container-id-8 div.sk-item::before, #sk-container-id-8 div.sk-parallel-item::before {content: \"\";position: absolute;border-left: 1px solid gray;box-sizing: border-box;top: 0;bottom: 0;left: 50%;z-index: -1;}#sk-container-id-8 div.sk-parallel-item {display: flex;flex-direction: column;z-index: 1;position: relative;background-color: white;}#sk-container-id-8 div.sk-parallel-item:first-child::after {align-self: flex-end;width: 50%;}#sk-container-id-8 div.sk-parallel-item:last-child::after {align-self: flex-start;width: 50%;}#sk-container-id-8 div.sk-parallel-item:only-child::after {width: 0;}#sk-container-id-8 div.sk-dashed-wrapped {border: 1px dashed gray;margin: 0 0.4em 0.5em 0.4em;box-sizing: border-box;padding-bottom: 0.4em;background-color: white;}#sk-container-id-8 div.sk-label label {font-family: monospace;font-weight: bold;display: inline-block;line-height: 1.2em;}#sk-container-id-8 div.sk-label-container {text-align: center;}#sk-container-id-8 div.sk-container {/* jupyter's `normalize.less` sets `[hidden] { display: none; }` but bootstrap.min.css set `[hidden] { display: none !important; }` so we also need the `!important` here to be able to override the default hidden behavior on the sphinx rendered scikit-learn.org. See: https://github.com/scikit-learn/scikit-learn/issues/21755 */display: inline-block !important;position: relative;}#sk-container-id-8 div.sk-text-repr-fallback {display: none;}</style><div id=\"sk-container-id-8\" class=\"sk-top-container\"><div class=\"sk-text-repr-fallback\"><pre>StandardScaler()</pre><b>In a Jupyter environment, please rerun this cell to show the HTML representation or trust the notebook. <br />On GitHub, the HTML representation is unable to render, please try loading this page with nbviewer.org.</b></div><div class=\"sk-container\" hidden><div class=\"sk-item\"><div class=\"sk-estimator sk-toggleable\"><input class=\"sk-toggleable__control sk-hidden--visually\" id=\"sk-estimator-id-12\" type=\"checkbox\" checked><label for=\"sk-estimator-id-12\" class=\"sk-toggleable__label sk-toggleable__label-arrow\">StandardScaler</label><div class=\"sk-toggleable__content\"><pre>StandardScaler()</pre></div></div></div></div></div>"
      ],
      "text/plain": [
       "StandardScaler()"
      ]
     },
     "execution_count": 616,
     "metadata": {},
     "output_type": "execute_result"
    }
   ],
   "source": [
    "from sklearn.preprocessing import StandardScaler\n",
    "scaler = StandardScaler()\n",
    "scaler.fit(df_flights_model['arr_delay'].array.reshape(-1,1))"
   ]
  },
  {
   "cell_type": "code",
   "execution_count": 618,
   "metadata": {},
   "outputs": [
    {
     "data": {
      "text/html": [
       "<div>\n",
       "<style scoped>\n",
       "    .dataframe tbody tr th:only-of-type {\n",
       "        vertical-align: middle;\n",
       "    }\n",
       "\n",
       "    .dataframe tbody tr th {\n",
       "        vertical-align: top;\n",
       "    }\n",
       "\n",
       "    .dataframe thead th {\n",
       "        text-align: right;\n",
       "    }\n",
       "</style>\n",
       "<table border=\"1\" class=\"dataframe\">\n",
       "  <thead>\n",
       "    <tr style=\"text-align: right;\">\n",
       "      <th></th>\n",
       "      <th>original_arrival_delay</th>\n",
       "      <th>predicted_arrival_delay</th>\n",
       "    </tr>\n",
       "  </thead>\n",
       "  <tbody>\n",
       "    <tr>\n",
       "      <th>0</th>\n",
       "      <td>-2.0</td>\n",
       "      <td>8.458343</td>\n",
       "    </tr>\n",
       "    <tr>\n",
       "      <th>1</th>\n",
       "      <td>-8.0</td>\n",
       "      <td>8.937708</td>\n",
       "    </tr>\n",
       "    <tr>\n",
       "      <th>2</th>\n",
       "      <td>-34.0</td>\n",
       "      <td>9.075533</td>\n",
       "    </tr>\n",
       "    <tr>\n",
       "      <th>3</th>\n",
       "      <td>143.0</td>\n",
       "      <td>12.131696</td>\n",
       "    </tr>\n",
       "    <tr>\n",
       "      <th>4</th>\n",
       "      <td>-22.0</td>\n",
       "      <td>9.075533</td>\n",
       "    </tr>\n",
       "    <tr>\n",
       "      <th>...</th>\n",
       "      <td>...</td>\n",
       "      <td>...</td>\n",
       "    </tr>\n",
       "    <tr>\n",
       "      <th>1023</th>\n",
       "      <td>37.0</td>\n",
       "      <td>9.075533</td>\n",
       "    </tr>\n",
       "    <tr>\n",
       "      <th>1024</th>\n",
       "      <td>-14.0</td>\n",
       "      <td>7.606805</td>\n",
       "    </tr>\n",
       "    <tr>\n",
       "      <th>1025</th>\n",
       "      <td>1.0</td>\n",
       "      <td>8.223992</td>\n",
       "    </tr>\n",
       "    <tr>\n",
       "      <th>1026</th>\n",
       "      <td>-20.0</td>\n",
       "      <td>12.780767</td>\n",
       "    </tr>\n",
       "    <tr>\n",
       "      <th>1027</th>\n",
       "      <td>-13.0</td>\n",
       "      <td>6.957733</td>\n",
       "    </tr>\n",
       "  </tbody>\n",
       "</table>\n",
       "<p>1028 rows × 2 columns</p>\n",
       "</div>"
      ],
      "text/plain": [
       "      original_arrival_delay  predicted_arrival_delay\n",
       "0                       -2.0                 8.458343\n",
       "1                       -8.0                 8.937708\n",
       "2                      -34.0                 9.075533\n",
       "3                      143.0                12.131696\n",
       "4                      -22.0                 9.075533\n",
       "...                      ...                      ...\n",
       "1023                    37.0                 9.075533\n",
       "1024                   -14.0                 7.606805\n",
       "1025                     1.0                 8.223992\n",
       "1026                   -20.0                12.780767\n",
       "1027                   -13.0                 6.957733\n",
       "\n",
       "[1028 rows x 2 columns]"
      ]
     },
     "execution_count": 618,
     "metadata": {},
     "output_type": "execute_result"
    }
   ],
   "source": [
    "Y_pred_inverse = scaler.inverse_transform(df_Y_pred_show)\n",
    "df_Y_pred_inverse = pd.DataFrame(Y_pred_inverse, columns=['original_arrival_delay',\n",
    "                                                          'predicted_arrival_delay'])\n",
    "df_Y_pred_inverse"
   ]
  },
  {
   "cell_type": "code",
   "execution_count": 628,
   "metadata": {},
   "outputs": [
    {
     "data": {
      "image/png": "[encoded data removed]",
      "text/plain": [
       "<Figure size 640x480 with 1 Axes>"
      ]
     },
     "metadata": {},
     "output_type": "display_data"
    }
   ],
   "source": [
    "import matplotlib.pyplot as plt\n",
    "\n",
    "fig, ax = plt.subplots()\n",
    "\n",
    "line1, = ax.plot(df_Y_pred_inverse['original_arrival_delay'], label='original arrival delay')\n",
    "line2, = ax.plot(df_Y_pred_inverse['predicted_arrival_delay'], label='predicted arrival delay')\n",
    "ax.legend()\n",
    "\n",
    "plt.show()"
   ]
  },
  {
   "cell_type": "code",
   "execution_count": null,
   "metadata": {},
   "outputs": [],
   "source": [
    "The prediction of delay on training data is off the mark as the model is a poor fit."
   ]
  },
  {
   "cell_type": "code",
   "execution_count": null,
   "metadata": {},
   "outputs": [],
   "source": [
    "Predicting on the actual test data"
   ]
  },
  {
   "cell_type": "code",
   "execution_count": 597,
   "metadata": {},
   "outputs": [],
   "source": [
    "Z = pd.read_csv(\"flights_scaled_test_data.csv\")\n",
    "df = pd.read_csv(\"flights_db_test_data.csv\")"
   ]
  },
  {
   "cell_type": "code",
   "execution_count": null,
   "metadata": {},
   "outputs": [],
   "source": [
    "Z_pred = grid_search.predict(Z)"
   ]
  },
  {
   "cell_type": "code",
   "execution_count": 590,
   "metadata": {},
   "outputs": [
    {
     "data": {
      "text/html": [
       "<style>#sk-container-id-6 {color: black;background-color: white;}#sk-container-id-6 pre{padding: 0;}#sk-container-id-6 div.sk-toggleable {background-color: white;}#sk-container-id-6 label.sk-toggleable__label {cursor: pointer;display: block;width: 100%;margin-bottom: 0;padding: 0.3em;box-sizing: border-box;text-align: center;}#sk-container-id-6 label.sk-toggleable__label-arrow:before {content: \"▸\";float: left;margin-right: 0.25em;color: #696969;}#sk-container-id-6 label.sk-toggleable__label-arrow:hover:before {color: black;}#sk-container-id-6 div.sk-estimator:hover label.sk-toggleable__label-arrow:before {color: black;}#sk-container-id-6 div.sk-toggleable__content {max-height: 0;max-width: 0;overflow: hidden;text-align: left;background-color: #f0f8ff;}#sk-container-id-6 div.sk-toggleable__content pre {margin: 0.2em;color: black;border-radius: 0.25em;background-color: #f0f8ff;}#sk-container-id-6 input.sk-toggleable__control:checked~div.sk-toggleable__content {max-height: 200px;max-width: 100%;overflow: auto;}#sk-container-id-6 input.sk-toggleable__control:checked~label.sk-toggleable__label-arrow:before {content: \"▾\";}#sk-container-id-6 div.sk-estimator input.sk-toggleable__control:checked~label.sk-toggleable__label {background-color: #d4ebff;}#sk-container-id-6 div.sk-label input.sk-toggleable__control:checked~label.sk-toggleable__label {background-color: #d4ebff;}#sk-container-id-6 input.sk-hidden--visually {border: 0;clip: rect(1px 1px 1px 1px);clip: rect(1px, 1px, 1px, 1px);height: 1px;margin: -1px;overflow: hidden;padding: 0;position: absolute;width: 1px;}#sk-container-id-6 div.sk-estimator {font-family: monospace;background-color: #f0f8ff;border: 1px dotted black;border-radius: 0.25em;box-sizing: border-box;margin-bottom: 0.5em;}#sk-container-id-6 div.sk-estimator:hover {background-color: #d4ebff;}#sk-container-id-6 div.sk-parallel-item::after {content: \"\";width: 100%;border-bottom: 1px solid gray;flex-grow: 1;}#sk-container-id-6 div.sk-label:hover label.sk-toggleable__label {background-color: #d4ebff;}#sk-container-id-6 div.sk-serial::before {content: \"\";position: absolute;border-left: 1px solid gray;box-sizing: border-box;top: 0;bottom: 0;left: 50%;z-index: 0;}#sk-container-id-6 div.sk-serial {display: flex;flex-direction: column;align-items: center;background-color: white;padding-right: 0.2em;padding-left: 0.2em;position: relative;}#sk-container-id-6 div.sk-item {position: relative;z-index: 1;}#sk-container-id-6 div.sk-parallel {display: flex;align-items: stretch;justify-content: center;background-color: white;position: relative;}#sk-container-id-6 div.sk-item::before, #sk-container-id-6 div.sk-parallel-item::before {content: \"\";position: absolute;border-left: 1px solid gray;box-sizing: border-box;top: 0;bottom: 0;left: 50%;z-index: -1;}#sk-container-id-6 div.sk-parallel-item {display: flex;flex-direction: column;z-index: 1;position: relative;background-color: white;}#sk-container-id-6 div.sk-parallel-item:first-child::after {align-self: flex-end;width: 50%;}#sk-container-id-6 div.sk-parallel-item:last-child::after {align-self: flex-start;width: 50%;}#sk-container-id-6 div.sk-parallel-item:only-child::after {width: 0;}#sk-container-id-6 div.sk-dashed-wrapped {border: 1px dashed gray;margin: 0 0.4em 0.5em 0.4em;box-sizing: border-box;padding-bottom: 0.4em;background-color: white;}#sk-container-id-6 div.sk-label label {font-family: monospace;font-weight: bold;display: inline-block;line-height: 1.2em;}#sk-container-id-6 div.sk-label-container {text-align: center;}#sk-container-id-6 div.sk-container {/* jupyter's `normalize.less` sets `[hidden] { display: none; }` but bootstrap.min.css set `[hidden] { display: none !important; }` so we also need the `!important` here to be able to override the default hidden behavior on the sphinx rendered scikit-learn.org. See: https://github.com/scikit-learn/scikit-learn/issues/21755 */display: inline-block !important;position: relative;}#sk-container-id-6 div.sk-text-repr-fallback {display: none;}</style><div id=\"sk-container-id-6\" class=\"sk-top-container\"><div class=\"sk-text-repr-fallback\"><pre>StandardScaler()</pre><b>In a Jupyter environment, please rerun this cell to show the HTML representation or trust the notebook. <br />On GitHub, the HTML representation is unable to render, please try loading this page with nbviewer.org.</b></div><div class=\"sk-container\" hidden><div class=\"sk-item\"><div class=\"sk-estimator sk-toggleable\"><input class=\"sk-toggleable__control sk-hidden--visually\" id=\"sk-estimator-id-10\" type=\"checkbox\" checked><label for=\"sk-estimator-id-10\" class=\"sk-toggleable__label sk-toggleable__label-arrow\">StandardScaler</label><div class=\"sk-toggleable__content\"><pre>StandardScaler()</pre></div></div></div></div></div>"
      ],
      "text/plain": [
       "StandardScaler()"
      ]
     },
     "execution_count": 590,
     "metadata": {},
     "output_type": "execute_result"
    }
   ],
   "source": [
    "from sklearn.preprocessing import StandardScaler\n",
    "scaler = StandardScaler()\n",
    "scaler.fit(df_flights_model['arr_delay'].array.reshape(-1,1))"
   ]
  },
  {
   "cell_type": "code",
   "execution_count": null,
   "metadata": {},
   "outputs": [],
   "source": [
    "Z_pred_inverse = scaler.inverse_transform(Z_pred.reshape(-1,1))"
   ]
  },
  {
   "cell_type": "code",
   "execution_count": 599,
   "metadata": {},
   "outputs": [],
   "source": [
    "df_Z_pred_inverse = pd.DataFrame(Z_pred_inverse, columns=['predicted_arrival_delay'])\n",
    "df_submission = df[['fl_date', 'mkt_unique_carrier', 'mkt_carrier_fl_num',\n",
    "                                                                'origin','dest']]"
   ]
  },
  {
   "cell_type": "code",
   "execution_count": null,
   "metadata": {},
   "outputs": [],
   "source": [
    "df_submission = pd.concat([df_submission, df_Z_pred_inverse], axis=1)"
   ]
  },
  {
   "cell_type": "code",
   "execution_count": 601,
   "metadata": {},
   "outputs": [],
   "source": [
    "df_submission.to_csv(\"project submission.csv\", index=False)"
   ]
  },
  {
   "cell_type": "markdown",
   "metadata": {},
   "source": [
    "### Evaluation"
   ]
  },
  {
   "cell_type": "markdown",
   "metadata": {},
   "source": [
    "You have data from 2018 and 2019 to develop models. Use different evaluation metrics for each problem and compare the performance of different models.\n",
    "\n",
    "You are required to predict delays on **out of sample** data from **first 7 days (1st-7th) of January 2020** and to share the file with LighthouseLabs. Sample submission can be found in the file **_sample_submission.csv_**"
   ]
  },
  {
   "cell_type": "code",
   "execution_count": null,
   "metadata": {},
   "outputs": [],
   "source": []
  },
  {
   "cell_type": "code",
   "execution_count": null,
   "metadata": {},
   "outputs": [],
   "source": []
  },
  {
   "cell_type": "code",
   "execution_count": null,
   "metadata": {},
   "outputs": [],
   "source": []
  },
  {
   "cell_type": "code",
   "execution_count": null,
   "metadata": {},
   "outputs": [],
   "source": []
  },
  {
   "cell_type": "markdown",
   "metadata": {},
   "source": [
    "======================================================================\n",
    "## Stretch Tasks"
   ]
  },
  {
   "cell_type": "markdown",
   "metadata": {},
   "source": [
    "### Multiclass Classification"
   ]
  },
  {
   "cell_type": "markdown",
   "metadata": {},
   "source": [
    "The target variables are **CARRIER_DELAY, WEATHER_DELAY, NAS_DELAY, SECURITY_DELAY, LATE_AIRCRAFT_DELAY**. We need to do additional transformations because these variables are not binary but continuos. For each flight that was delayed, we need to have one of these variables as 1 and others 0.\n",
    "\n",
    "It can happen that we have two types of delays with more than 0 minutes. In this case, take the bigger one as 1 and others as 0."
   ]
  },
  {
   "cell_type": "code",
   "execution_count": null,
   "metadata": {},
   "outputs": [],
   "source": []
  },
  {
   "cell_type": "code",
   "execution_count": null,
   "metadata": {},
   "outputs": [],
   "source": []
  },
  {
   "cell_type": "code",
   "execution_count": null,
   "metadata": {},
   "outputs": [],
   "source": []
  },
  {
   "cell_type": "markdown",
   "metadata": {},
   "source": [
    "### Binary Classification"
   ]
  },
  {
   "cell_type": "markdown",
   "metadata": {},
   "source": [
    "The target variable is **CANCELLED**. The main problem here is going to be huge class imbalance. We have only very little cancelled flights with comparison to all flights. It is important to do the right sampling before training and to choose correct evaluation metrics."
   ]
  },
  {
   "cell_type": "code",
   "execution_count": null,
   "metadata": {},
   "outputs": [],
   "source": []
  },
  {
   "cell_type": "code",
   "execution_count": null,
   "metadata": {},
   "outputs": [],
   "source": []
  },
  {
   "cell_type": "code",
   "execution_count": null,
   "metadata": {},
   "outputs": [],
   "source": []
  }
 ],
 "metadata": {
  "kernelspec": {
   "display_name": "Python 3 (ipykernel)",
   "language": "python",
   "name": "python3"
  },
  "language_info": {
   "codemirror_mode": {
    "name": "ipython",
    "version": 3
   },
   "file_extension": ".py",
   "mimetype": "text/x-python",
   "name": "python",
   "nbconvert_exporter": "python",
   "pygments_lexer": "ipython3",
   "version": "3.8.15"
  },
  "vscode": {
   "interpreter": {
    "hash": "31f2aee4e71d21fbe5cf8b01ff0e069b9275f58929596ceb00d14d90e3e16cd6"
   }
  }
 },
 "nbformat": 4,
 "nbformat_minor": 4
}
